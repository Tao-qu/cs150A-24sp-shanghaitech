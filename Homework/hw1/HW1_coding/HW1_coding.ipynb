{
 "cells": [
  {
   "cell_type": "code",
   "execution_count": 1,
   "id": "0abc7de9-59ea-47cc-ba5f-6bb07397568e",
   "metadata": {},
   "outputs": [],
   "source": [
    "#%pip install jupysql"
   ]
  },
  {
   "cell_type": "markdown",
   "id": "e5fbb7ca-217b-44f4-8e16-5d1c97bda05e",
   "metadata": {},
   "source": [
    "CS150A Homework1 - Coding\n",
    "=======\n",
    "\n",
    "## Instructions / Notes:\n",
    "\n",
    "**_Read these carefully_**\n",
    "\n",
    "\n",
    "* You will need to install the `jupysql` module to run the scripts. (eg. `pip install --user jupysql`)\n",
    "* Run the cell below to load the database `hw1.db`.\n",
    "* You **may** create new Jupyter notebook cells to use for e.g. testing, debugging, exploring, etc.- this is encouraged in fact!\n",
    "* When you see `In [*]:` to the left of the cell you are executing, this means that the code / query is _running_.\n",
    "    * **If the cell is hanging- i.e. running for too long: to restart the SQL connection, you must restart the entire python kernel**\n",
    "    * To restart the kernel using the menu bar: \"Kernel >> Restart & Clear Output\"), then re-execute the sql connection cell at the top\n",
    "    * You will also need to restart the connection if you want to load a different version of the database file\n",
    "* Remember:\n",
    "    * `%sql [SQL]` is for _single line_ SQL queries\n",
    "    * `%%sql \n",
    "    [SQL]` is for _multi line_ SQL queries\n",
    "\n",
    "## Submission Instructions:\n",
    " * Do _NOT_ submit your iPython notebook directly.\n",
    " * Instead, upload your answers in PDF version of the HW1.ipynb with your outputs to Gradescope.\n",
    " \n",
    " **If you hava any confusion, please ask TA team in Piazza.**\n",
    "\n",
    "_Have fun!_"
   ]
  },
  {
   "cell_type": "code",
   "execution_count": 2,
   "id": "44914ed1-76fe-41f5-960f-8c4aec2469df",
   "metadata": {
    "vscode": {
     "languageId": "sql"
    }
   },
   "outputs": [
    {
     "data": {
      "text/html": [
       "<span style=\"None\">Connecting to &#x27;sqlite:///hw1.db&#x27;</span>"
      ],
      "text/plain": [
       "Connecting to 'sqlite:///hw1.db'"
      ]
     },
     "metadata": {},
     "output_type": "display_data"
    }
   ],
   "source": [
    "%load_ext sql\n",
    "%sql sqlite:///hw1.db"
   ]
  },
  {
   "cell_type": "markdown",
   "id": "e42bf853-c467-49ca-a90b-503bc29f0a54",
   "metadata": {},
   "source": [
    "## Understanding the scheme:\n",
    "\n",
    "In this project we will be working with the commonly-used Lahman baseball statistics database. The database contains pitching, hitting, and fielding statistics for Major League Baseball from 1871 through 2022. It includes data from the two current leagues (American and National), four other \"major\" leagues (American Association, Union Association, Players League, and Federal League), and the National Association of 1871-1875.\n",
    "\n",
    "The database is comprised of the following main tables:\n",
    "* People - Player names, date of birth (DOB), and biographical info  \n",
    "* Batting - batting statistics  \n",
    "* Pitching - pitching statistics  \n",
    "* Fielding - fielding statistics  \n",
    "\n",
    "It is supplemented by these tables:\n",
    "*  AllStarFull - All-Star appearances\n",
    "*  HallofFame - Hall of Fame voting data\n",
    "*  Managers - managerial statistics\n",
    "*  Teams - yearly stats and standings\n",
    "*  BattingPost - post-season batting statistics\n",
    "*  PitchingPost - post-season pitching statistics\n",
    "*  TeamFranchises - franchise information\n",
    "*  FieldingOF - outfield position data\n",
    "*  FieldingPost- post-season fielding data\n",
    "*  FieldingOFsplit - LF/CF/RF splits\n",
    "*  ManagersHalf - split season data for managers\n",
    "*  TeamsHalf - split season data for teams\n",
    "*  Salaries - player salary data\n",
    "*  SeriesPost - post-season series information\n",
    "*  AwardsManagers - awards won by managers\n",
    "*  AwardsPlayers - awards won by players\n",
    "*  AwardsShareManagers - award voting for manager awards\n",
    "*  AwardsSharePlayers - award voting for player awards\n",
    "*  Appearances - details on the positions a player appeared at\n",
    "*  Schools - list of colleges that players attended\n",
    "*  CollegePlaying - list of players and the colleges they attended\n",
    "*  Parks - list of major league ballparks\n",
    "*  HomeGames - Number of homegames played by each team in each ballpark\n",
    "\n",
    "Read `doc.txt` for more detailed information."
   ]
  },
  {
   "cell_type": "markdown",
   "id": "cae7234f-00a2-433c-bc4d-08b4c3c5132b",
   "metadata": {},
   "source": []
  },
  {
   "cell_type": "markdown",
   "id": "e2aa5a05-5eab-4b43-9430-d0992e090194",
   "metadata": {},
   "source": [
    "## Your Tasks (100 points)\n",
    "\n",
    "**In this part, you should finish task 1 to 4.**\n",
    "\n",
    "We'll use SQL to explore  pitching, hitting, and fielding statistics for Major League Baseball from 1871 through 2022.\n",
    "\n",
    "To start, let's look at the People table in the database we've prepared for you:"
   ]
  },
  {
   "cell_type": "code",
   "execution_count": 3,
   "id": "174ac0fd-81a8-4489-857c-aa2c912334f7",
   "metadata": {
    "vscode": {
     "languageId": "sql"
    }
   },
   "outputs": [
    {
     "data": {
      "text/html": [
       "<span style=\"None\">Running query in &#x27;sqlite:///hw1.db&#x27;</span>"
      ],
      "text/plain": [
       "Running query in 'sqlite:///hw1.db'"
      ]
     },
     "metadata": {},
     "output_type": "display_data"
    },
    {
     "data": {
      "text/html": [
       "<table>\n",
       "    <thead>\n",
       "        <tr>\n",
       "            <th>ID</th>\n",
       "            <th>playerID</th>\n",
       "            <th>birthYear</th>\n",
       "            <th>birthMonth</th>\n",
       "            <th>birthDay</th>\n",
       "            <th>birthCity</th>\n",
       "            <th>birthCountry</th>\n",
       "            <th>birthState</th>\n",
       "            <th>deathYear</th>\n",
       "            <th>deathMonth</th>\n",
       "            <th>deathDay</th>\n",
       "            <th>deathCountry</th>\n",
       "            <th>deathState</th>\n",
       "            <th>deathCity</th>\n",
       "            <th>nameFirst</th>\n",
       "            <th>nameLast</th>\n",
       "            <th>nameGiven</th>\n",
       "            <th>weight</th>\n",
       "            <th>height</th>\n",
       "            <th>bats</th>\n",
       "            <th>throws</th>\n",
       "            <th>debut</th>\n",
       "            <th>bbrefID</th>\n",
       "            <th>finalGame</th>\n",
       "            <th>retroID</th>\n",
       "        </tr>\n",
       "    </thead>\n",
       "    <tbody>\n",
       "        <tr>\n",
       "            <td>1</td>\n",
       "            <td>aardsda01</td>\n",
       "            <td>1981</td>\n",
       "            <td>12</td>\n",
       "            <td>27</td>\n",
       "            <td>Denver</td>\n",
       "            <td>USA</td>\n",
       "            <td>CO</td>\n",
       "            <td>None</td>\n",
       "            <td>None</td>\n",
       "            <td>None</td>\n",
       "            <td>None</td>\n",
       "            <td>None</td>\n",
       "            <td>None</td>\n",
       "            <td>David</td>\n",
       "            <td>Aardsma</td>\n",
       "            <td>David Allan</td>\n",
       "            <td>215</td>\n",
       "            <td>75</td>\n",
       "            <td>R</td>\n",
       "            <td>R</td>\n",
       "            <td>2004-04-06</td>\n",
       "            <td>aardsda01</td>\n",
       "            <td>2015-08-23</td>\n",
       "            <td>aardd001</td>\n",
       "        </tr>\n",
       "    </tbody>\n",
       "</table>"
      ],
      "text/plain": [
       "+----+-----------+-----------+------------+----------+-----------+--------------+------------+-----------+------------+----------+--------------+------------+-----------+-----------+----------+-------------+--------+--------+------+--------+------------+-----------+------------+----------+\n",
       "| ID |  playerID | birthYear | birthMonth | birthDay | birthCity | birthCountry | birthState | deathYear | deathMonth | deathDay | deathCountry | deathState | deathCity | nameFirst | nameLast |  nameGiven  | weight | height | bats | throws |   debut    |  bbrefID  | finalGame  | retroID  |\n",
       "+----+-----------+-----------+------------+----------+-----------+--------------+------------+-----------+------------+----------+--------------+------------+-----------+-----------+----------+-------------+--------+--------+------+--------+------------+-----------+------------+----------+\n",
       "| 1  | aardsda01 |    1981   |     12     |    27    |   Denver  |     USA      |     CO     |    None   |    None    |   None   |     None     |    None    |    None   |   David   | Aardsma  | David Allan |  215   |   75   |  R   |   R    | 2004-04-06 | aardsda01 | 2015-08-23 | aardd001 |\n",
       "+----+-----------+-----------+------------+----------+-----------+--------------+------------+-----------+------------+----------+--------------+------------+-----------+-----------+----------+-------------+--------+--------+------+--------+------------+-----------+------------+----------+"
      ]
     },
     "execution_count": 3,
     "metadata": {},
     "output_type": "execute_result"
    }
   ],
   "source": [
    "%%sql\n",
    "SELECT * \n",
    "FROM People\n",
    "LIMIT 1;"
   ]
  },
  {
   "cell_type": "markdown",
   "id": "c22594f4-596a-4cea-a0ea-bd8d620912ea",
   "metadata": {},
   "source": [
    "You have now learned how to run SQL statements in a jupyter notebook.\n",
    "\n",
    "Next please use the following cell to explore any other tables:"
   ]
  },
  {
   "cell_type": "code",
   "execution_count": 4,
   "id": "1e696d6a-78c0-48e6-a1c3-39441a4305dd",
   "metadata": {
    "vscode": {
     "languageId": "sql"
    }
   },
   "outputs": [],
   "source": [
    "# %%sql\n"
   ]
  },
  {
   "cell_type": "markdown",
   "id": "8b429d33-11c8-4f91-a62e-8d9c8f25dab4",
   "metadata": {},
   "source": [
    "Alright -- let's get started!\n",
    "\n",
    "**Only need to show the first 10 lines of the results if the lines of results more than 10, i.e., with `LIMIT 10` in the end of your SQL statement.**"
   ]
  },
  {
   "cell_type": "markdown",
   "id": "726f7701-3651-43a9-9687-6c2b96051c30",
   "metadata": {},
   "source": [
    "### Task 1: Basics  (15 points)"
   ]
  },
  {
   "cell_type": "markdown",
   "id": "61e026fd-afc3-449e-8ba7-635d94f5d596",
   "metadata": {},
   "source": [
    "#### Query 1 (5 points): In the people table, find the `namefirst`, `namelast` and `birthyear` for all players with weight greater than 300 pounds."
   ]
  },
  {
   "cell_type": "code",
   "execution_count": 5,
   "id": "af90ff44-b98d-4ce9-b040-ce3ca3049b9a",
   "metadata": {
    "vscode": {
     "languageId": "sql"
    }
   },
   "outputs": [
    {
     "data": {
      "text/html": [
       "<span style=\"None\">Running query in &#x27;sqlite:///hw1.db&#x27;</span>"
      ],
      "text/plain": [
       "Running query in 'sqlite:///hw1.db'"
      ]
     },
     "metadata": {},
     "output_type": "display_data"
    },
    {
     "data": {
      "text/html": [
       "<table>\n",
       "    <thead>\n",
       "        <tr>\n",
       "            <th>nameFirst</th>\n",
       "            <th>nameLast</th>\n",
       "            <th>birthYear</th>\n",
       "        </tr>\n",
       "    </thead>\n",
       "    <tbody>\n",
       "        <tr>\n",
       "            <td>Jumbo</td>\n",
       "            <td>Diaz</td>\n",
       "            <td>1984</td>\n",
       "        </tr>\n",
       "        <tr>\n",
       "            <td>Eddie</td>\n",
       "            <td>Gaedel</td>\n",
       "            <td>1925</td>\n",
       "        </tr>\n",
       "        <tr>\n",
       "            <td>Walter</td>\n",
       "            <td>Young</td>\n",
       "            <td>1980</td>\n",
       "        </tr>\n",
       "    </tbody>\n",
       "</table>"
      ],
      "text/plain": [
       "+-----------+----------+-----------+\n",
       "| nameFirst | nameLast | birthYear |\n",
       "+-----------+----------+-----------+\n",
       "|   Jumbo   |   Diaz   |    1984   |\n",
       "|   Eddie   |  Gaedel  |    1925   |\n",
       "|   Walter  |  Young   |    1980   |\n",
       "+-----------+----------+-----------+"
      ]
     },
     "execution_count": 5,
     "metadata": {},
     "output_type": "execute_result"
    }
   ],
   "source": [
    "%%sql\n",
    "SELECT namefirst, namelast, birthyear\n",
    "FROM People\n",
    "WHERE weight > 300;"
   ]
  },
  {
   "cell_type": "markdown",
   "id": "168b0089-0b32-4912-9da4-9322e3fc1418",
   "metadata": {},
   "source": [
    "#### Query 2  (5 points): From the people table, group together players born in 1970s (i.e., 1970 ~ 1979)  with the same `birthyear`, and report the `birthyear`, average `height`, and number of players for each `birthyear`. Order the results by `birthyear` in ascending order."
   ]
  },
  {
   "cell_type": "code",
   "execution_count": 6,
   "id": "17ec0fc8-5a5f-48d2-8ac7-1d81c53845c6",
   "metadata": {
    "vscode": {
     "languageId": "sql"
    }
   },
   "outputs": [
    {
     "data": {
      "text/html": [
       "<span style=\"None\">Running query in &#x27;sqlite:///hw1.db&#x27;</span>"
      ],
      "text/plain": [
       "Running query in 'sqlite:///hw1.db'"
      ]
     },
     "metadata": {},
     "output_type": "display_data"
    },
    {
     "data": {
      "text/html": [
       "<table>\n",
       "    <thead>\n",
       "        <tr>\n",
       "            <th>birthYear</th>\n",
       "            <th>avg_height</th>\n",
       "            <th>num_players</th>\n",
       "        </tr>\n",
       "    </thead>\n",
       "    <tbody>\n",
       "        <tr>\n",
       "            <td>1970</td>\n",
       "            <td>73.8743169398907</td>\n",
       "            <td>183</td>\n",
       "        </tr>\n",
       "        <tr>\n",
       "            <td>1971</td>\n",
       "            <td>73.47619047619048</td>\n",
       "            <td>210</td>\n",
       "        </tr>\n",
       "        <tr>\n",
       "            <td>1972</td>\n",
       "            <td>73.38190954773869</td>\n",
       "            <td>199</td>\n",
       "        </tr>\n",
       "        <tr>\n",
       "            <td>1973</td>\n",
       "            <td>73.37158469945355</td>\n",
       "            <td>183</td>\n",
       "        </tr>\n",
       "        <tr>\n",
       "            <td>1974</td>\n",
       "            <td>73.6774193548387</td>\n",
       "            <td>186</td>\n",
       "        </tr>\n",
       "        <tr>\n",
       "            <td>1975</td>\n",
       "            <td>73.47417840375587</td>\n",
       "            <td>213</td>\n",
       "        </tr>\n",
       "        <tr>\n",
       "            <td>1976</td>\n",
       "            <td>73.39408866995073</td>\n",
       "            <td>203</td>\n",
       "        </tr>\n",
       "        <tr>\n",
       "            <td>1977</td>\n",
       "            <td>73.77560975609757</td>\n",
       "            <td>205</td>\n",
       "        </tr>\n",
       "        <tr>\n",
       "            <td>1978</td>\n",
       "            <td>73.6303317535545</td>\n",
       "            <td>211</td>\n",
       "        </tr>\n",
       "        <tr>\n",
       "            <td>1979</td>\n",
       "            <td>73.54589371980677</td>\n",
       "            <td>207</td>\n",
       "        </tr>\n",
       "    </tbody>\n",
       "</table>\n",
       "<span style=\"font-style:italic;text-align:center;\">Truncated to <a href=\"https://jupysql.ploomber.io/en/latest/api/configuration.html#displaylimit\">displaylimit</a> of 10.</span>"
      ],
      "text/plain": [
       "+-----------+-------------------+-------------+\n",
       "| birthYear |     avg_height    | num_players |\n",
       "+-----------+-------------------+-------------+\n",
       "|    1970   |  73.8743169398907 |     183     |\n",
       "|    1971   | 73.47619047619048 |     210     |\n",
       "|    1972   | 73.38190954773869 |     199     |\n",
       "|    1973   | 73.37158469945355 |     183     |\n",
       "|    1974   |  73.6774193548387 |     186     |\n",
       "|    1975   | 73.47417840375587 |     213     |\n",
       "|    1976   | 73.39408866995073 |     203     |\n",
       "|    1977   | 73.77560975609757 |     205     |\n",
       "|    1978   |  73.6303317535545 |     211     |\n",
       "|    1979   | 73.54589371980677 |     207     |\n",
       "+-----------+-------------------+-------------+\n",
       "Truncated to displaylimit of 10."
      ]
     },
     "execution_count": 6,
     "metadata": {},
     "output_type": "execute_result"
    }
   ],
   "source": [
    "%%sql\n",
    "SELECT birthyear, AVG(height) as avg_height, COUNT(*) as num_players\n",
    "FROM People\n",
    "WHERE birthyear BETWEEN 1970 AND 1979\n",
    "GROUP BY birthyear\n",
    "ORDER BY birthyear;"
   ]
  },
  {
   "cell_type": "markdown",
   "id": "7ffbbf3a-1628-4dab-a2e9-c2a6a3d95725",
   "metadata": {},
   "source": [
    "#### Query 3 (5 points): Following the results of Query 2, now only include groups with an average `height` > 73.5. Again order the results by `birthyear` in ascending order."
   ]
  },
  {
   "cell_type": "code",
   "execution_count": 7,
   "id": "62750e23-397a-4e20-9feb-697ec8a1d207",
   "metadata": {
    "vscode": {
     "languageId": "sql"
    }
   },
   "outputs": [
    {
     "data": {
      "text/html": [
       "<span style=\"None\">Running query in &#x27;sqlite:///hw1.db&#x27;</span>"
      ],
      "text/plain": [
       "Running query in 'sqlite:///hw1.db'"
      ]
     },
     "metadata": {},
     "output_type": "display_data"
    },
    {
     "data": {
      "text/html": [
       "<table>\n",
       "    <thead>\n",
       "        <tr>\n",
       "            <th>birthYear</th>\n",
       "            <th>avg_height</th>\n",
       "            <th>num_players</th>\n",
       "        </tr>\n",
       "    </thead>\n",
       "    <tbody>\n",
       "        <tr>\n",
       "            <td>1970</td>\n",
       "            <td>73.8743169398907</td>\n",
       "            <td>183</td>\n",
       "        </tr>\n",
       "        <tr>\n",
       "            <td>1974</td>\n",
       "            <td>73.6774193548387</td>\n",
       "            <td>186</td>\n",
       "        </tr>\n",
       "        <tr>\n",
       "            <td>1977</td>\n",
       "            <td>73.77560975609757</td>\n",
       "            <td>205</td>\n",
       "        </tr>\n",
       "        <tr>\n",
       "            <td>1978</td>\n",
       "            <td>73.6303317535545</td>\n",
       "            <td>211</td>\n",
       "        </tr>\n",
       "        <tr>\n",
       "            <td>1979</td>\n",
       "            <td>73.54589371980677</td>\n",
       "            <td>207</td>\n",
       "        </tr>\n",
       "    </tbody>\n",
       "</table>"
      ],
      "text/plain": [
       "+-----------+-------------------+-------------+\n",
       "| birthYear |     avg_height    | num_players |\n",
       "+-----------+-------------------+-------------+\n",
       "|    1970   |  73.8743169398907 |     183     |\n",
       "|    1974   |  73.6774193548387 |     186     |\n",
       "|    1977   | 73.77560975609757 |     205     |\n",
       "|    1978   |  73.6303317535545 |     211     |\n",
       "|    1979   | 73.54589371980677 |     207     |\n",
       "+-----------+-------------------+-------------+"
      ]
     },
     "execution_count": 7,
     "metadata": {},
     "output_type": "execute_result"
    }
   ],
   "source": [
    "%%sql\n",
    "SELECT birthyear, AVG(height) as avg_height, COUNT(*) as num_players\n",
    "FROM People\n",
    "WHERE birthyear BETWEEN 1970 AND 1979\n",
    "GROUP BY birthyear\n",
    "HAVING avg_height > 73.5\n",
    "ORDER BY birthyear;"
   ]
  },
  {
   "cell_type": "markdown",
   "id": "d2d5f91e-e965-4e31-91d4-84b984e65bb7",
   "metadata": {},
   "source": [
    "### Task 2: Hall of Fame Schools (25 points)"
   ]
  },
  {
   "cell_type": "markdown",
   "id": "ae78655b-ce13-4fb4-802d-7fcb08e308a0",
   "metadata": {},
   "source": [
    "#### Query 1 (5 points): Find the `namefirst`, `namelast`, `playerid` and `yearid` of all people who were successfully inducted into the Hall of Fame in descending order of `yearid`."
   ]
  },
  {
   "cell_type": "code",
   "execution_count": 8,
   "id": "73000075-05e3-4fc7-9f9f-cb1dcf710000",
   "metadata": {
    "vscode": {
     "languageId": "sql"
    }
   },
   "outputs": [
    {
     "data": {
      "text/html": [
       "<span style=\"None\">Running query in &#x27;sqlite:///hw1.db&#x27;</span>"
      ],
      "text/plain": [
       "Running query in 'sqlite:///hw1.db'"
      ]
     },
     "metadata": {},
     "output_type": "display_data"
    },
    {
     "data": {
      "text/html": [
       "<table>\n",
       "    <thead>\n",
       "        <tr>\n",
       "            <th>nameFirst</th>\n",
       "            <th>nameLast</th>\n",
       "            <th>playerID</th>\n",
       "            <th>yearid</th>\n",
       "        </tr>\n",
       "    </thead>\n",
       "    <tbody>\n",
       "        <tr>\n",
       "            <td>Gil</td>\n",
       "            <td>Hodges</td>\n",
       "            <td>hodgegi01</td>\n",
       "            <td>2022</td>\n",
       "        </tr>\n",
       "        <tr>\n",
       "            <td>Jim</td>\n",
       "            <td>Kaat</td>\n",
       "            <td>kaatji01</td>\n",
       "            <td>2022</td>\n",
       "        </tr>\n",
       "        <tr>\n",
       "            <td>Minnie</td>\n",
       "            <td>Minoso</td>\n",
       "            <td>minosmi01</td>\n",
       "            <td>2022</td>\n",
       "        </tr>\n",
       "        <tr>\n",
       "            <td>Tony</td>\n",
       "            <td>Oliva</td>\n",
       "            <td>olivato01</td>\n",
       "            <td>2022</td>\n",
       "        </tr>\n",
       "        <tr>\n",
       "            <td>Buck</td>\n",
       "            <td>O'Neil</td>\n",
       "            <td>oneilbu01</td>\n",
       "            <td>2022</td>\n",
       "        </tr>\n",
       "        <tr>\n",
       "            <td>David</td>\n",
       "            <td>Ortiz</td>\n",
       "            <td>ortizda01</td>\n",
       "            <td>2022</td>\n",
       "        </tr>\n",
       "        <tr>\n",
       "            <td>Derek</td>\n",
       "            <td>Jeter</td>\n",
       "            <td>jeterde01</td>\n",
       "            <td>2020</td>\n",
       "        </tr>\n",
       "        <tr>\n",
       "            <td>Ted</td>\n",
       "            <td>Simmons</td>\n",
       "            <td>simmote01</td>\n",
       "            <td>2020</td>\n",
       "        </tr>\n",
       "        <tr>\n",
       "            <td>Larry</td>\n",
       "            <td>Walker</td>\n",
       "            <td>walkela01</td>\n",
       "            <td>2020</td>\n",
       "        </tr>\n",
       "        <tr>\n",
       "            <td>Harold</td>\n",
       "            <td>Baines</td>\n",
       "            <td>baineha01</td>\n",
       "            <td>2019</td>\n",
       "        </tr>\n",
       "    </tbody>\n",
       "</table>\n",
       "<span style=\"font-style:italic;text-align:center;\">Truncated to <a href=\"https://jupysql.ploomber.io/en/latest/api/configuration.html#displaylimit\">displaylimit</a> of 10.</span>"
      ],
      "text/plain": [
       "+-----------+----------+-----------+--------+\n",
       "| nameFirst | nameLast |  playerID | yearid |\n",
       "+-----------+----------+-----------+--------+\n",
       "|    Gil    |  Hodges  | hodgegi01 |  2022  |\n",
       "|    Jim    |   Kaat   |  kaatji01 |  2022  |\n",
       "|   Minnie  |  Minoso  | minosmi01 |  2022  |\n",
       "|    Tony   |  Oliva   | olivato01 |  2022  |\n",
       "|    Buck   |  O'Neil  | oneilbu01 |  2022  |\n",
       "|   David   |  Ortiz   | ortizda01 |  2022  |\n",
       "|   Derek   |  Jeter   | jeterde01 |  2020  |\n",
       "|    Ted    | Simmons  | simmote01 |  2020  |\n",
       "|   Larry   |  Walker  | walkela01 |  2020  |\n",
       "|   Harold  |  Baines  | baineha01 |  2019  |\n",
       "+-----------+----------+-----------+--------+\n",
       "Truncated to displaylimit of 10."
      ]
     },
     "execution_count": 8,
     "metadata": {},
     "output_type": "execute_result"
    }
   ],
   "source": [
    "%%sql\n",
    "SELECT p.namefirst, p.namelast, p.playerid, h.yearid\n",
    "FROM People AS p\n",
    "INNER JOIN HallOfFame AS h\n",
    "ON p.playerid = h.playerid\n",
    "WHERE h.inducted = 'Y'\n",
    "ORDER BY h.yearid DESC;"
   ]
  },
  {
   "cell_type": "markdown",
   "id": "e21f2bfe-1e76-4b68-91fd-facca7cac82b",
   "metadata": {},
   "source": [
    "#### Query 2 (10 points): Find the people who were successfully inducted into the Hall of Fame and played in college at a school located in the state of California (i.e., `Schools.state = 'CA'`). For each person, return their `namefirst`, `namelast`, `playerid`, `schoolid`, and `yearid` in descending order of yearid. For this question, yearid refers to the year of induction into the Hall of Fame.\n",
    "\n",
    "Note: a player may appear in the results multiple times (once per year in a college in California)."
   ]
  },
  {
   "cell_type": "code",
   "execution_count": 9,
   "id": "912cbc74-1d10-42c9-8dd7-d27225adc3c2",
   "metadata": {
    "vscode": {
     "languageId": "sql"
    }
   },
   "outputs": [
    {
     "data": {
      "text/html": [
       "<span style=\"None\">Running query in &#x27;sqlite:///hw1.db&#x27;</span>"
      ],
      "text/plain": [
       "Running query in 'sqlite:///hw1.db'"
      ]
     },
     "metadata": {},
     "output_type": "display_data"
    },
    {
     "data": {
      "text/html": [
       "<table>\n",
       "    <thead>\n",
       "        <tr>\n",
       "            <th>nameFirst</th>\n",
       "            <th>nameLast</th>\n",
       "            <th>playerID</th>\n",
       "            <th>schoolID</th>\n",
       "            <th>yearid</th>\n",
       "        </tr>\n",
       "    </thead>\n",
       "    <tbody>\n",
       "        <tr>\n",
       "            <td>Mike</td>\n",
       "            <td>Mussina</td>\n",
       "            <td>mussimi01</td>\n",
       "            <td>stanford</td>\n",
       "            <td>2019</td>\n",
       "        </tr>\n",
       "        <tr>\n",
       "            <td>Mike</td>\n",
       "            <td>Mussina</td>\n",
       "            <td>mussimi01</td>\n",
       "            <td>stanford</td>\n",
       "            <td>2019</td>\n",
       "        </tr>\n",
       "        <tr>\n",
       "            <td>Trevor</td>\n",
       "            <td>Hoffman</td>\n",
       "            <td>hoffmtr01</td>\n",
       "            <td>cacypre</td>\n",
       "            <td>2018</td>\n",
       "        </tr>\n",
       "        <tr>\n",
       "            <td>Trevor</td>\n",
       "            <td>Hoffman</td>\n",
       "            <td>hoffmtr01</td>\n",
       "            <td>cacypre</td>\n",
       "            <td>2018</td>\n",
       "        </tr>\n",
       "        <tr>\n",
       "            <td>Randy</td>\n",
       "            <td>Johnson</td>\n",
       "            <td>johnsra05</td>\n",
       "            <td>usc</td>\n",
       "            <td>2015</td>\n",
       "        </tr>\n",
       "        <tr>\n",
       "            <td>Randy</td>\n",
       "            <td>Johnson</td>\n",
       "            <td>johnsra05</td>\n",
       "            <td>usc</td>\n",
       "            <td>2015</td>\n",
       "        </tr>\n",
       "        <tr>\n",
       "            <td>Randy</td>\n",
       "            <td>Johnson</td>\n",
       "            <td>johnsra05</td>\n",
       "            <td>usc</td>\n",
       "            <td>2015</td>\n",
       "        </tr>\n",
       "        <tr>\n",
       "            <td>Pat</td>\n",
       "            <td>Gillick</td>\n",
       "            <td>gillipa99</td>\n",
       "            <td>calavco</td>\n",
       "            <td>2011</td>\n",
       "        </tr>\n",
       "        <tr>\n",
       "            <td>Pat</td>\n",
       "            <td>Gillick</td>\n",
       "            <td>gillipa99</td>\n",
       "            <td>usc</td>\n",
       "            <td>2011</td>\n",
       "        </tr>\n",
       "        <tr>\n",
       "            <td>Pat</td>\n",
       "            <td>Gillick</td>\n",
       "            <td>gillipa99</td>\n",
       "            <td>usc</td>\n",
       "            <td>2011</td>\n",
       "        </tr>\n",
       "    </tbody>\n",
       "</table>\n",
       "<span style=\"font-style:italic;text-align:center;\">Truncated to <a href=\"https://jupysql.ploomber.io/en/latest/api/configuration.html#displaylimit\">displaylimit</a> of 10.</span>"
      ],
      "text/plain": [
       "+-----------+----------+-----------+----------+--------+\n",
       "| nameFirst | nameLast |  playerID | schoolID | yearid |\n",
       "+-----------+----------+-----------+----------+--------+\n",
       "|    Mike   | Mussina  | mussimi01 | stanford |  2019  |\n",
       "|    Mike   | Mussina  | mussimi01 | stanford |  2019  |\n",
       "|   Trevor  | Hoffman  | hoffmtr01 | cacypre  |  2018  |\n",
       "|   Trevor  | Hoffman  | hoffmtr01 | cacypre  |  2018  |\n",
       "|   Randy   | Johnson  | johnsra05 |   usc    |  2015  |\n",
       "|   Randy   | Johnson  | johnsra05 |   usc    |  2015  |\n",
       "|   Randy   | Johnson  | johnsra05 |   usc    |  2015  |\n",
       "|    Pat    | Gillick  | gillipa99 | calavco  |  2011  |\n",
       "|    Pat    | Gillick  | gillipa99 |   usc    |  2011  |\n",
       "|    Pat    | Gillick  | gillipa99 |   usc    |  2011  |\n",
       "+-----------+----------+-----------+----------+--------+\n",
       "Truncated to displaylimit of 10."
      ]
     },
     "execution_count": 9,
     "metadata": {},
     "output_type": "execute_result"
    }
   ],
   "source": [
    "%%sql\n",
    "SELECT p.namefirst, p.namelast, p.playerid, s.schoolid, h.yearid\n",
    "FROM People AS p\n",
    "INNER JOIN CollegePlaying AS c\n",
    "ON p.playerid = c.playerid\n",
    "INNER JOIN HallOfFame AS h\n",
    "ON p.playerid = h.playerid\n",
    "INNER JOIN Schools AS s\n",
    "ON c.schoolid = s.schoolid\n",
    "WHERE h.inducted = 'Y' AND s.state = 'CA'\n",
    "ORDER BY h.yearid DESC;"
   ]
  },
  {
   "cell_type": "markdown",
   "id": "2e7a5221-3f56-4c48-9fb9-b2df50479a4d",
   "metadata": {},
   "source": [
    "#### Query 3 (10 points):  Find the `playerid`, `namefirst`, `namelast` and `schoolid` of all people who were successfully inducted into the Hall of Fame -- whether or not they played in college. Return people in descending order of playerid.\n",
    "\n",
    "Note: schoolid should be `NULL` or `None` if they did not play in college. Also, this may contains dulplicates results."
   ]
  },
  {
   "cell_type": "code",
   "execution_count": 10,
   "id": "670f963a-f1b0-4db5-89a3-be42885fc25e",
   "metadata": {
    "vscode": {
     "languageId": "sql"
    }
   },
   "outputs": [
    {
     "data": {
      "text/html": [
       "<span style=\"None\">Running query in &#x27;sqlite:///hw1.db&#x27;</span>"
      ],
      "text/plain": [
       "Running query in 'sqlite:///hw1.db'"
      ]
     },
     "metadata": {},
     "output_type": "display_data"
    },
    {
     "data": {
      "text/html": [
       "<table>\n",
       "    <thead>\n",
       "        <tr>\n",
       "            <th>playerID</th>\n",
       "            <th>nameFirst</th>\n",
       "            <th>nameLast</th>\n",
       "            <th>schoolID</th>\n",
       "        </tr>\n",
       "    </thead>\n",
       "    <tbody>\n",
       "        <tr>\n",
       "            <td>yountro01</td>\n",
       "            <td>Robin</td>\n",
       "            <td>Yount</td>\n",
       "            <td>None</td>\n",
       "        </tr>\n",
       "        <tr>\n",
       "            <td>youngro01</td>\n",
       "            <td>Ross</td>\n",
       "            <td>Youngs</td>\n",
       "            <td>None</td>\n",
       "        </tr>\n",
       "        <tr>\n",
       "            <td>youngcy01</td>\n",
       "            <td>Cy</td>\n",
       "            <td>Young</td>\n",
       "            <td>None</td>\n",
       "        </tr>\n",
       "        <tr>\n",
       "            <td>yawketo99</td>\n",
       "            <td>Tom</td>\n",
       "            <td>Yawkey</td>\n",
       "            <td>None</td>\n",
       "        </tr>\n",
       "        <tr>\n",
       "            <td>yastrca01</td>\n",
       "            <td>Carl</td>\n",
       "            <td>Yastrzemski</td>\n",
       "            <td>None</td>\n",
       "        </tr>\n",
       "        <tr>\n",
       "            <td>wynnea01</td>\n",
       "            <td>Early</td>\n",
       "            <td>Wynn</td>\n",
       "            <td>None</td>\n",
       "        </tr>\n",
       "        <tr>\n",
       "            <td>wrighha01</td>\n",
       "            <td>Harry</td>\n",
       "            <td>Wright</td>\n",
       "            <td>None</td>\n",
       "        </tr>\n",
       "        <tr>\n",
       "            <td>wrighge01</td>\n",
       "            <td>George</td>\n",
       "            <td>Wright</td>\n",
       "            <td>None</td>\n",
       "        </tr>\n",
       "        <tr>\n",
       "            <td>winfida01</td>\n",
       "            <td>Dave</td>\n",
       "            <td>Winfield</td>\n",
       "            <td>minnesota</td>\n",
       "        </tr>\n",
       "        <tr>\n",
       "            <td>winfida01</td>\n",
       "            <td>Dave</td>\n",
       "            <td>Winfield</td>\n",
       "            <td>minnesota</td>\n",
       "        </tr>\n",
       "    </tbody>\n",
       "</table>\n",
       "<span style=\"font-style:italic;text-align:center;\">Truncated to <a href=\"https://jupysql.ploomber.io/en/latest/api/configuration.html#displaylimit\">displaylimit</a> of 10.</span>"
      ],
      "text/plain": [
       "+-----------+-----------+-------------+-----------+\n",
       "|  playerID | nameFirst |   nameLast  |  schoolID |\n",
       "+-----------+-----------+-------------+-----------+\n",
       "| yountro01 |   Robin   |    Yount    |    None   |\n",
       "| youngro01 |    Ross   |    Youngs   |    None   |\n",
       "| youngcy01 |     Cy    |    Young    |    None   |\n",
       "| yawketo99 |    Tom    |    Yawkey   |    None   |\n",
       "| yastrca01 |    Carl   | Yastrzemski |    None   |\n",
       "|  wynnea01 |   Early   |     Wynn    |    None   |\n",
       "| wrighha01 |   Harry   |    Wright   |    None   |\n",
       "| wrighge01 |   George  |    Wright   |    None   |\n",
       "| winfida01 |    Dave   |   Winfield  | minnesota |\n",
       "| winfida01 |    Dave   |   Winfield  | minnesota |\n",
       "+-----------+-----------+-------------+-----------+\n",
       "Truncated to displaylimit of 10."
      ]
     },
     "execution_count": 10,
     "metadata": {},
     "output_type": "execute_result"
    }
   ],
   "source": [
    "%%sql\n",
    "SELECT p.playerid, p.namefirst, p.namelast, c.schoolid\n",
    "FROM People AS p\n",
    "LEFT OUTER JOIN CollegePlaying AS c\n",
    "ON p.playerid = c.playerid\n",
    "INNER JOIN HallOfFame AS h\n",
    "ON p.playerid = h.playerid\n",
    "WHERE h.inducted = 'Y'\n",
    "ORDER BY p.playerid DESC;"
   ]
  },
  {
   "cell_type": "markdown",
   "id": "e5f94183-dfd2-4234-b3b0-f3261d85d8d4",
   "metadata": {},
   "source": [
    "### Task 3: [SaberMetrics](https://en.wikipedia.org/wiki/Sabermetrics) (30 points)"
   ]
  },
  {
   "cell_type": "markdown",
   "id": "2b73d380-aa9f-4340-8e15-8b3ce0e0350a",
   "metadata": {},
   "source": [
    "#### Query 1 (15 points): Find the `playerid`, `namefirst`, `namelast`, `yearid` and single-year `slg` (Slugging Percentage) of the players with the 10 best annual Slugging Percentage recorded over all time. A player can appear multiple times in the output. For example, if Babe Ruth’s `slg` in 2000 and 2001 both landed in the top 10 best annual Slugging Percentage of all time, then we should include Babe Ruth twice in the output. For statistical significance, only include players with more than 50 at-bats in the season. Order the results by `slg` descending, and break ties by `yearid`, `playerid` (ascending).\n",
    "\n",
    "* Baseball note: Slugging Percentage is not provided in the database; it is computed according to a [simple formula](https://en.wikipedia.org/wiki/Slugging_percentage) you can calculate from the data in the database.\n",
    "\n",
    "* Note: If you cannot open the Wikipedia link, we have prepared a pdf version of the wiki for you (`Sabermetrics - Wikipedia.pdf` and `Slugging percentage - Wikipedia.pdf`)\n",
    "\n",
    "* SQL note: You should compute slg properly as a floating point number---you'll need to figure out how to convince SQL to do this!\n",
    "\n",
    "* Data set note: The online documentation batting mentions two columns 2B and 3B. You can query these columus using backtick, such as \\`2B\\` and \\`3B\\`.\n",
    "\n",
    "* Data set note: The column H o f the batting table represents all hits = (# singles) + (# doubles) + (# triples) + (# home runs), not just (# singles) so you’ll need to account for some double-counting\n",
    "\n",
    "* If a player played on multiple teams during the same season (for example anderma02 in 2006) treat their time on each team separately for this calculation"
   ]
  },
  {
   "cell_type": "code",
   "execution_count": 11,
   "id": "52457682-f231-41c2-aee3-9fe58ef852d1",
   "metadata": {
    "vscode": {
     "languageId": "sql"
    }
   },
   "outputs": [
    {
     "data": {
      "text/html": [
       "<span style=\"None\">Running query in &#x27;sqlite:///hw1.db&#x27;</span>"
      ],
      "text/plain": [
       "Running query in 'sqlite:///hw1.db'"
      ]
     },
     "metadata": {},
     "output_type": "display_data"
    },
    {
     "data": {
      "text/html": [
       "<table>\n",
       "    <thead>\n",
       "        <tr>\n",
       "            <th>playerID</th>\n",
       "            <th>nameFirst</th>\n",
       "            <th>nameLast</th>\n",
       "            <th>yearID</th>\n",
       "            <th>slg</th>\n",
       "        </tr>\n",
       "    </thead>\n",
       "    <tbody>\n",
       "        <tr>\n",
       "            <td>spencsh01</td>\n",
       "            <td>Shane</td>\n",
       "            <td>Spencer</td>\n",
       "            <td>1998</td>\n",
       "            <td>0.9104477611940298</td>\n",
       "        </tr>\n",
       "        <tr>\n",
       "            <td>willite01</td>\n",
       "            <td>Ted</td>\n",
       "            <td>Williams</td>\n",
       "            <td>1953</td>\n",
       "            <td>0.9010989010989011</td>\n",
       "        </tr>\n",
       "        <tr>\n",
       "            <td>bondsba01</td>\n",
       "            <td>Barry</td>\n",
       "            <td>Bonds</td>\n",
       "            <td>2001</td>\n",
       "            <td>0.8634453781512605</td>\n",
       "        </tr>\n",
       "        <tr>\n",
       "            <td>ruthba01</td>\n",
       "            <td>Babe</td>\n",
       "            <td>Ruth</td>\n",
       "            <td>1920</td>\n",
       "            <td>0.849015317286652</td>\n",
       "        </tr>\n",
       "        <tr>\n",
       "            <td>ruthba01</td>\n",
       "            <td>Babe</td>\n",
       "            <td>Ruth</td>\n",
       "            <td>1921</td>\n",
       "            <td>0.8462962962962963</td>\n",
       "        </tr>\n",
       "        <tr>\n",
       "            <td>bakerje03</td>\n",
       "            <td>Jeff</td>\n",
       "            <td>Baker</td>\n",
       "            <td>2006</td>\n",
       "            <td>0.8245614035087719</td>\n",
       "        </tr>\n",
       "        <tr>\n",
       "            <td>anderma02</td>\n",
       "            <td>Marlon</td>\n",
       "            <td>Anderson</td>\n",
       "            <td>2006</td>\n",
       "            <td>0.8125</td>\n",
       "        </tr>\n",
       "        <tr>\n",
       "            <td>bondsba01</td>\n",
       "            <td>Barry</td>\n",
       "            <td>Bonds</td>\n",
       "            <td>2004</td>\n",
       "            <td>0.8123324396782842</td>\n",
       "        </tr>\n",
       "        <tr>\n",
       "            <td>bondsba01</td>\n",
       "            <td>Barry</td>\n",
       "            <td>Bonds</td>\n",
       "            <td>2002</td>\n",
       "            <td>0.7990074441687345</td>\n",
       "        </tr>\n",
       "        <tr>\n",
       "            <td>ruthba01</td>\n",
       "            <td>Babe</td>\n",
       "            <td>Ruth</td>\n",
       "            <td>1927</td>\n",
       "            <td>0.7722222222222223</td>\n",
       "        </tr>\n",
       "    </tbody>\n",
       "</table>\n",
       "<span style=\"font-style:italic;text-align:center;\">Truncated to <a href=\"https://jupysql.ploomber.io/en/latest/api/configuration.html#displaylimit\">displaylimit</a> of 10.</span>"
      ],
      "text/plain": [
       "+-----------+-----------+----------+--------+--------------------+\n",
       "|  playerID | nameFirst | nameLast | yearID |        slg         |\n",
       "+-----------+-----------+----------+--------+--------------------+\n",
       "| spencsh01 |   Shane   | Spencer  |  1998  | 0.9104477611940298 |\n",
       "| willite01 |    Ted    | Williams |  1953  | 0.9010989010989011 |\n",
       "| bondsba01 |   Barry   |  Bonds   |  2001  | 0.8634453781512605 |\n",
       "|  ruthba01 |    Babe   |   Ruth   |  1920  | 0.849015317286652  |\n",
       "|  ruthba01 |    Babe   |   Ruth   |  1921  | 0.8462962962962963 |\n",
       "| bakerje03 |    Jeff   |  Baker   |  2006  | 0.8245614035087719 |\n",
       "| anderma02 |   Marlon  | Anderson |  2006  |       0.8125       |\n",
       "| bondsba01 |   Barry   |  Bonds   |  2004  | 0.8123324396782842 |\n",
       "| bondsba01 |   Barry   |  Bonds   |  2002  | 0.7990074441687345 |\n",
       "|  ruthba01 |    Babe   |   Ruth   |  1927  | 0.7722222222222223 |\n",
       "+-----------+-----------+----------+--------+--------------------+\n",
       "Truncated to displaylimit of 10."
      ]
     },
     "execution_count": 11,
     "metadata": {},
     "output_type": "execute_result"
    }
   ],
   "source": [
    "%%sql\n",
    "SELECT p.playerid, p.namefirst, p.namelast, b.yearid, \n",
    "    (b.H - b.'2B' - b.'3B' - b.HR + 2 * b.'2B' + 3 * b.'3B' + 4 * b.HR) / CAST(b.AB AS float) AS slg\n",
    "FROM People AS p\n",
    "INNER JOIN Batting AS b\n",
    "ON p.playerid = b.playerid\n",
    "WHERE b.AB > 50\n",
    "ORDER BY slg DESC, b.yearid, p.playerid\n",
    "LIMIT 10;"
   ]
  },
  {
   "cell_type": "markdown",
   "id": "d1e6d25e-5416-46be-9b39-33e7c8d3c7ed",
   "metadata": {},
   "source": [
    "#### Query 2 (15 points):  Find the `playerid`, `namefirst`, `namelast` and `lslg` (Lifetime Slugging Percentage) for the players with the top 10 Lifetime Slugging Percentage. Lifetime Slugging Percentage (LSLG) uses the same formula as Slugging Percentage (SLG), but it uses the number of singles, doubles, triples, home runs, and at bats each player has over their entire career, rather than just over a single season.\n",
    "\n",
    "* Note that the database only gives batting information broken down by year; you will need to convert to total information across all time (from the earliest date recorded up to the last date recorded) to compute lslg. Order the results by `lslg` (descending) and break ties by playerid (ascending)\n",
    "\n",
    "* Note: Make sure that you only include players with more than 50 at-bats across their lifetime."
   ]
  },
  {
   "cell_type": "code",
   "execution_count": 12,
   "id": "28687d79-3135-45d9-a957-2bf6a075b75b",
   "metadata": {
    "vscode": {
     "languageId": "sql"
    }
   },
   "outputs": [
    {
     "data": {
      "text/html": [
       "<span style=\"None\">Running query in &#x27;sqlite:///hw1.db&#x27;</span>"
      ],
      "text/plain": [
       "Running query in 'sqlite:///hw1.db'"
      ]
     },
     "metadata": {},
     "output_type": "display_data"
    },
    {
     "data": {
      "text/html": [
       "<table>\n",
       "    <thead>\n",
       "        <tr>\n",
       "            <th>playerID</th>\n",
       "            <th>nameFirst</th>\n",
       "            <th>nameLast</th>\n",
       "            <th>lslg</th>\n",
       "        </tr>\n",
       "    </thead>\n",
       "    <tbody>\n",
       "        <tr>\n",
       "            <td>ruthba01</td>\n",
       "            <td>Babe</td>\n",
       "            <td>Ruth</td>\n",
       "            <td>0.6898070969278399</td>\n",
       "        </tr>\n",
       "        <tr>\n",
       "            <td>willite01</td>\n",
       "            <td>Ted</td>\n",
       "            <td>Williams</td>\n",
       "            <td>0.6337918505060991</td>\n",
       "        </tr>\n",
       "        <tr>\n",
       "            <td>gehrilo01</td>\n",
       "            <td>Lou</td>\n",
       "            <td>Gehrig</td>\n",
       "            <td>0.6324209473815773</td>\n",
       "        </tr>\n",
       "        <tr>\n",
       "            <td>foxxji01</td>\n",
       "            <td>Jimmie</td>\n",
       "            <td>Foxx</td>\n",
       "            <td>0.6092943201376936</td>\n",
       "        </tr>\n",
       "        <tr>\n",
       "            <td>bondsba01</td>\n",
       "            <td>Barry</td>\n",
       "            <td>Bonds</td>\n",
       "            <td>0.6068853457905962</td>\n",
       "        </tr>\n",
       "        <tr>\n",
       "            <td>greenha01</td>\n",
       "            <td>Hank</td>\n",
       "            <td>Greenberg</td>\n",
       "            <td>0.6050452532254958</td>\n",
       "        </tr>\n",
       "        <tr>\n",
       "            <td>bassjo01</td>\n",
       "            <td>John</td>\n",
       "            <td>Bass</td>\n",
       "            <td>0.6</td>\n",
       "        </tr>\n",
       "        <tr>\n",
       "            <td>tatisfe02</td>\n",
       "            <td>Fernando</td>\n",
       "            <td>Tatis</td>\n",
       "            <td>0.5955598455598455</td>\n",
       "        </tr>\n",
       "        <tr>\n",
       "            <td>alvaryo01</td>\n",
       "            <td>Yordan</td>\n",
       "            <td>Alvarez</td>\n",
       "            <td>0.5896084337349398</td>\n",
       "        </tr>\n",
       "        <tr>\n",
       "            <td>mcgwima01</td>\n",
       "            <td>Mark</td>\n",
       "            <td>McGwire</td>\n",
       "            <td>0.5881687409083562</td>\n",
       "        </tr>\n",
       "    </tbody>\n",
       "</table>\n",
       "<span style=\"font-style:italic;text-align:center;\">Truncated to <a href=\"https://jupysql.ploomber.io/en/latest/api/configuration.html#displaylimit\">displaylimit</a> of 10.</span>"
      ],
      "text/plain": [
       "+-----------+-----------+-----------+--------------------+\n",
       "|  playerID | nameFirst |  nameLast |        lslg        |\n",
       "+-----------+-----------+-----------+--------------------+\n",
       "|  ruthba01 |    Babe   |    Ruth   | 0.6898070969278399 |\n",
       "| willite01 |    Ted    |  Williams | 0.6337918505060991 |\n",
       "| gehrilo01 |    Lou    |   Gehrig  | 0.6324209473815773 |\n",
       "|  foxxji01 |   Jimmie  |    Foxx   | 0.6092943201376936 |\n",
       "| bondsba01 |   Barry   |   Bonds   | 0.6068853457905962 |\n",
       "| greenha01 |    Hank   | Greenberg | 0.6050452532254958 |\n",
       "|  bassjo01 |    John   |    Bass   |        0.6         |\n",
       "| tatisfe02 |  Fernando |   Tatis   | 0.5955598455598455 |\n",
       "| alvaryo01 |   Yordan  |  Alvarez  | 0.5896084337349398 |\n",
       "| mcgwima01 |    Mark   |  McGwire  | 0.5881687409083562 |\n",
       "+-----------+-----------+-----------+--------------------+\n",
       "Truncated to displaylimit of 10."
      ]
     },
     "execution_count": 12,
     "metadata": {},
     "output_type": "execute_result"
    }
   ],
   "source": [
    "%%sql\n",
    "SELECT p.playerid, p.namefirst, p.namelast, \n",
    "    (SUM(b.H) - SUM(b.'2B') - SUM(b.'3B') - SUM(b.HR) + 2 * SUM(b.'2B') + 3 * SUM(b.'3B') + 4 * SUM(b.HR)) / CAST(SUM(b.AB) AS float) AS lslg\n",
    "FROM People AS p\n",
    "INNER JOIN Batting AS b\n",
    "ON p.playerid = b.playerid\n",
    "GROUP BY p.playerid\n",
    "HAVING SUM(b.AB) > 50\n",
    "ORDER BY lslg DESC, p.playerid\n",
    "LIMIT 10;"
   ]
  },
  {
   "cell_type": "markdown",
   "id": "b6c016c6-8f06-4a36-a92c-270b5bcb38e8",
   "metadata": {},
   "source": [
    "### Task 4: Salaries (30 points)"
   ]
  },
  {
   "cell_type": "markdown",
   "id": "c3fb5066-7582-419e-8854-7ff7bf349297",
   "metadata": {},
   "source": [
    "#### Query 1 (10 points): Find the `yearid`, min, max and average of all player salaries for each year recorded in 2010s (i.e., 2010~2019), ordered by `yearid` in ascending order."
   ]
  },
  {
   "cell_type": "code",
   "execution_count": 13,
   "id": "ea5c44f9-10fa-4840-badf-59a385dc5a1f",
   "metadata": {
    "vscode": {
     "languageId": "sql"
    }
   },
   "outputs": [
    {
     "data": {
      "text/html": [
       "<span style=\"None\">Running query in &#x27;sqlite:///hw1.db&#x27;</span>"
      ],
      "text/plain": [
       "Running query in 'sqlite:///hw1.db'"
      ]
     },
     "metadata": {},
     "output_type": "display_data"
    },
    {
     "data": {
      "text/html": [
       "<table>\n",
       "    <thead>\n",
       "        <tr>\n",
       "            <th>yearID</th>\n",
       "            <th>min_salary</th>\n",
       "            <th>max_salary</th>\n",
       "            <th>avg_salary</th>\n",
       "        </tr>\n",
       "    </thead>\n",
       "    <tbody>\n",
       "        <tr>\n",
       "            <td>2010</td>\n",
       "            <td>400000.0</td>\n",
       "            <td>33000000.0</td>\n",
       "            <td>3278746.825301205</td>\n",
       "        </tr>\n",
       "        <tr>\n",
       "            <td>2011</td>\n",
       "            <td>414000.0</td>\n",
       "            <td>32000000.0</td>\n",
       "            <td>3318838.249106079</td>\n",
       "        </tr>\n",
       "        <tr>\n",
       "            <td>2012</td>\n",
       "            <td>480000.0</td>\n",
       "            <td>30000000.0</td>\n",
       "            <td>3458421.216981132</td>\n",
       "        </tr>\n",
       "        <tr>\n",
       "            <td>2013</td>\n",
       "            <td>480000.0</td>\n",
       "            <td>29000000.0</td>\n",
       "            <td>3723344.353374233</td>\n",
       "        </tr>\n",
       "        <tr>\n",
       "            <td>2014</td>\n",
       "            <td>500000.0</td>\n",
       "            <td>26000000.0</td>\n",
       "            <td>3980445.9139650874</td>\n",
       "        </tr>\n",
       "        <tr>\n",
       "            <td>2015</td>\n",
       "            <td>507000.0</td>\n",
       "            <td>32571000.0</td>\n",
       "            <td>4301276.094247246</td>\n",
       "        </tr>\n",
       "        <tr>\n",
       "            <td>2016</td>\n",
       "            <td>507500.0</td>\n",
       "            <td>33000000.0</td>\n",
       "            <td>4396409.603751466</td>\n",
       "        </tr>\n",
       "    </tbody>\n",
       "</table>"
      ],
      "text/plain": [
       "+--------+------------+------------+--------------------+\n",
       "| yearID | min_salary | max_salary |     avg_salary     |\n",
       "+--------+------------+------------+--------------------+\n",
       "|  2010  |  400000.0  | 33000000.0 | 3278746.825301205  |\n",
       "|  2011  |  414000.0  | 32000000.0 | 3318838.249106079  |\n",
       "|  2012  |  480000.0  | 30000000.0 | 3458421.216981132  |\n",
       "|  2013  |  480000.0  | 29000000.0 | 3723344.353374233  |\n",
       "|  2014  |  500000.0  | 26000000.0 | 3980445.9139650874 |\n",
       "|  2015  |  507000.0  | 32571000.0 | 4301276.094247246  |\n",
       "|  2016  |  507500.0  | 33000000.0 | 4396409.603751466  |\n",
       "+--------+------------+------------+--------------------+"
      ]
     },
     "execution_count": 13,
     "metadata": {},
     "output_type": "execute_result"
    }
   ],
   "source": [
    "%%sql\n",
    "SELECT yearid, MIN(salary) as min_salary, MAX(salary) as max_salary, AVG(salary) as avg_salary\n",
    "FROM Salaries\n",
    "GROUP BY yearid\n",
    "HAVING yearid BETWEEN 2010 AND 2019\n",
    "ORDER BY yearid;"
   ]
  },
  {
   "cell_type": "markdown",
   "id": "b8510656-68c9-4b95-9ec9-c1f88ab870f9",
   "metadata": {},
   "source": [
    "#### Query 2 (10 points): Write a query to find the players that had the max salary in 2000 and 2001. Return the `playerid`, `namefirst`, `namelast`, `salary` and `yearid` for those two years. If multiple players tied for the max salary in a year, return all of them.\n",
    "\n",
    "* Note on notation: you are computing a relational variant of the argmax for each of those two years."
   ]
  },
  {
   "cell_type": "code",
   "execution_count": 14,
   "id": "0dec9ab3",
   "metadata": {
    "vscode": {
     "languageId": "sql"
    }
   },
   "outputs": [
    {
     "data": {
      "text/html": [
       "<span style=\"None\">Running query in &#x27;sqlite:///hw1.db&#x27;</span>"
      ],
      "text/plain": [
       "Running query in 'sqlite:///hw1.db'"
      ]
     },
     "metadata": {},
     "output_type": "display_data"
    },
    {
     "data": {
      "text/html": [
       "<table>\n",
       "    <thead>\n",
       "        <tr>\n",
       "            <th>playerID</th>\n",
       "            <th>nameFirst</th>\n",
       "            <th>nameLast</th>\n",
       "            <th>salary</th>\n",
       "            <th>yearID</th>\n",
       "        </tr>\n",
       "    </thead>\n",
       "    <tbody>\n",
       "        <tr>\n",
       "            <td>brownke01</td>\n",
       "            <td>Kevin</td>\n",
       "            <td>Brown</td>\n",
       "            <td>15714286.0</td>\n",
       "            <td>2000</td>\n",
       "        </tr>\n",
       "        <tr>\n",
       "            <td>rodrial01</td>\n",
       "            <td>Alex</td>\n",
       "            <td>Rodriguez</td>\n",
       "            <td>22000000.0</td>\n",
       "            <td>2001</td>\n",
       "        </tr>\n",
       "    </tbody>\n",
       "</table>"
      ],
      "text/plain": [
       "+-----------+-----------+-----------+------------+--------+\n",
       "|  playerID | nameFirst |  nameLast |   salary   | yearID |\n",
       "+-----------+-----------+-----------+------------+--------+\n",
       "| brownke01 |   Kevin   |   Brown   | 15714286.0 |  2000  |\n",
       "| rodrial01 |    Alex   | Rodriguez | 22000000.0 |  2001  |\n",
       "+-----------+-----------+-----------+------------+--------+"
      ]
     },
     "execution_count": 14,
     "metadata": {},
     "output_type": "execute_result"
    }
   ],
   "source": [
    "%%sql\n",
    "SELECT p.playerid, p.namefirst, p.namelast, s.salary, s.yearid\n",
    "FROM People AS p\n",
    "INNER JOIN Salaries AS s\n",
    "ON p.playerid = s.playerid\n",
    "INNER JOIN (\n",
    "    SELECT MAX(salary) as max_salary, yearid\n",
    "    FROM Salaries\n",
    "    WHERE yearid BETWEEN 2000 AND 2001\n",
    "    GROUP BY yearid\n",
    ") AS m\n",
    "ON s.salary = m.max_salary AND s.yearid = m.yearid;"
   ]
  },
  {
   "cell_type": "markdown",
   "id": "c9faf982-05b1-419e-adda-6fe0beaaae48",
   "metadata": {},
   "source": [
    "#### Query 3 (10 points): Each team has at least 1 All Star and may have multiple. For each team in the year 2016, give the `teamid` and diffAvg (the difference between the team's highest paid all-star's `salary` and the team's lowest paid all-star's salary), ordered by diffAvg in descending order.\n",
    "\n",
    "* Note: Due to some discrepancies in the database, please draw your team names from the All-Star table (so use allstarfull.teamid in the SELECT statement for this)."
   ]
  },
  {
   "cell_type": "code",
   "execution_count": 15,
   "id": "97a1e4d8-18a5-4237-bca3-b47c1b78a809",
   "metadata": {
    "vscode": {
     "languageId": "sql"
    }
   },
   "outputs": [
    {
     "data": {
      "text/html": [
       "<span style=\"None\">Running query in &#x27;sqlite:///hw1.db&#x27;</span>"
      ],
      "text/plain": [
       "Running query in 'sqlite:///hw1.db'"
      ]
     },
     "metadata": {},
     "output_type": "display_data"
    },
    {
     "data": {
      "text/html": [
       "<table>\n",
       "    <thead>\n",
       "        <tr>\n",
       "            <th>teamID</th>\n",
       "            <th>diffAvg</th>\n",
       "        </tr>\n",
       "    </thead>\n",
       "    <tbody>\n",
       "        <tr>\n",
       "            <td>LAN</td>\n",
       "            <td>32490000.0</td>\n",
       "        </tr>\n",
       "        <tr>\n",
       "            <td>NYN</td>\n",
       "            <td>26792671.0</td>\n",
       "        </tr>\n",
       "        <tr>\n",
       "            <td>CHN</td>\n",
       "            <td>24473000.0</td>\n",
       "        </tr>\n",
       "        <tr>\n",
       "            <td>WAS</td>\n",
       "            <td>17142857.0</td>\n",
       "        </tr>\n",
       "        <tr>\n",
       "            <td>BOS</td>\n",
       "            <td>15485500.0</td>\n",
       "        </tr>\n",
       "        <tr>\n",
       "            <td>SFN</td>\n",
       "            <td>14577778.0</td>\n",
       "        </tr>\n",
       "        <tr>\n",
       "            <td>BAL</td>\n",
       "            <td>14550000.0</td>\n",
       "        </tr>\n",
       "        <tr>\n",
       "            <td>TEX</td>\n",
       "            <td>14500000.0</td>\n",
       "        </tr>\n",
       "        <tr>\n",
       "            <td>NYA</td>\n",
       "            <td>14492500.0</td>\n",
       "        </tr>\n",
       "        <tr>\n",
       "            <td>COL</td>\n",
       "            <td>12428571.0</td>\n",
       "        </tr>\n",
       "    </tbody>\n",
       "</table>\n",
       "<span style=\"font-style:italic;text-align:center;\">Truncated to <a href=\"https://jupysql.ploomber.io/en/latest/api/configuration.html#displaylimit\">displaylimit</a> of 10.</span>"
      ],
      "text/plain": [
       "+--------+------------+\n",
       "| teamID |  diffAvg   |\n",
       "+--------+------------+\n",
       "|  LAN   | 32490000.0 |\n",
       "|  NYN   | 26792671.0 |\n",
       "|  CHN   | 24473000.0 |\n",
       "|  WAS   | 17142857.0 |\n",
       "|  BOS   | 15485500.0 |\n",
       "|  SFN   | 14577778.0 |\n",
       "|  BAL   | 14550000.0 |\n",
       "|  TEX   | 14500000.0 |\n",
       "|  NYA   | 14492500.0 |\n",
       "|  COL   | 12428571.0 |\n",
       "+--------+------------+\n",
       "Truncated to displaylimit of 10."
      ]
     },
     "execution_count": 15,
     "metadata": {},
     "output_type": "execute_result"
    }
   ],
   "source": [
    "%%sql\n",
    "SELECT a.teamid, MAX(s.salary) - MIN(s.salary) as diffAvg\n",
    "FROM AllstarFull AS a\n",
    "INNER JOIN Salaries AS s\n",
    "ON a.playerid = s.playerid AND a.yearid = s.yearid\n",
    "WHERE a.yearid = 2016\n",
    "GROUP BY a.teamid\n",
    "ORDER BY diffAvg DESC;"
   ]
  }
 ],
 "metadata": {
  "kernelspec": {
   "display_name": "Python 3 (ipykernel)",
   "language": "python",
   "name": "python3"
  },
  "language_info": {
   "codemirror_mode": {
    "name": "ipython",
    "version": 3
   },
   "file_extension": ".py",
   "mimetype": "text/x-python",
   "name": "python",
   "nbconvert_exporter": "python",
   "pygments_lexer": "ipython3",
   "version": "3.11.7"
  }
 },
 "nbformat": 4,
 "nbformat_minor": 5
}
